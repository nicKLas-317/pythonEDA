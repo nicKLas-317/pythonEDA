{
 "cells": [
  {
   "cell_type": "code",
   "execution_count": null,
   "id": "ce6ba807",
   "metadata": {},
   "outputs": [],
   "source": [
    "ibm = pd.read_csv('datas/ibm_hr_attrition.csv');"
   ]
  }
 ],
 "metadata": {
  "kernelspec": {
   "display_name": "Python 3",
   "language": "python",
   "name": "python3"
  },
  "language_info": {
   "codemirror_mode": {
    "name": "ipython",
    "version": 3
   },
   "file_extension": ".py",
   "mimetype": "text/x-python",
   "name": "python",
   "nbconvert_exporter": "python",
   "pygments_lexer": "ipython3",
   "version": "3.8.5"
  }
 },
 "nbformat": 4,
 "nbformat_minor": 5
}
