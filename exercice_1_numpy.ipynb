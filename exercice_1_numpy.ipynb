{
 "cells": [
  {
   "cell_type": "code",
   "execution_count": 4,
   "id": "7e26030a",
   "metadata": {},
   "outputs": [
    {
     "name": "stdout",
     "output_type": "stream",
     "text": [
      "Collecting numpy\n",
      "  Downloading numpy-1.20.3-cp38-cp38-manylinux_2_12_x86_64.manylinux2010_x86_64.whl (15.4 MB)\n",
      "\u001b[K     |████████████████████████████████| 15.4 MB 2.1 MB/s eta 0:00:01\n",
      "\u001b[?25hInstalling collected packages: numpy\n",
      "Successfully installed numpy-1.20.3\n",
      "Note: you may need to restart the kernel to use updated packages.\n"
     ]
    }
   ],
   "source": [
    "#Q1\n",
    "pip install numpy"
   ]
  },
  {
   "cell_type": "code",
   "execution_count": 4,
   "id": "e00e8817",
   "metadata": {},
   "outputs": [],
   "source": [
    "import numpy as np"
   ]
  },
  {
   "cell_type": "code",
   "execution_count": 39,
   "id": "ca2beb49",
   "metadata": {},
   "outputs": [
    {
     "data": {
      "text/plain": [
       "'1.20.3'"
      ]
     },
     "execution_count": 39,
     "metadata": {},
     "output_type": "execute_result"
    }
   ],
   "source": [
    "#Q2\n",
    "np.version.version"
   ]
  },
  {
   "cell_type": "code",
   "execution_count": 33,
   "id": "e7857a8e",
   "metadata": {},
   "outputs": [
    {
     "data": {
      "text/plain": [
       "array([0., 0., 0., 0., 0., 0., 0., 0., 0., 0.])"
      ]
     },
     "execution_count": 33,
     "metadata": {},
     "output_type": "execute_result"
    }
   ],
   "source": [
    "#Q3 \n",
    "np.zeros(10)"
   ]
  },
  {
   "cell_type": "code",
   "execution_count": 35,
   "id": "7bfabd59",
   "metadata": {},
   "outputs": [
    {
     "data": {
      "text/plain": [
       "array([0., 0., 0., 0., 1., 0., 0., 0., 0., 0.])"
      ]
     },
     "execution_count": 35,
     "metadata": {},
     "output_type": "execute_result"
    }
   ],
   "source": [
    "#Q4 \n",
    "vecNull = np.zeros(10)\n",
    "vecNull[4] = 1\n",
    "vecNull"
   ]
  },
  {
   "cell_type": "code",
   "execution_count": 46,
   "id": "4b0a0482",
   "metadata": {},
   "outputs": [
    {
     "data": {
      "text/plain": [
       "array([50, 49, 48, 47, 46, 45, 44, 43, 42, 41, 40, 39, 38, 37, 36, 35, 34,\n",
       "       33, 32, 31, 30, 29, 28, 27, 26, 25, 24, 23, 22, 21, 20, 19, 18, 17,\n",
       "       16, 15, 14, 13, 12, 11, 10])"
      ]
     },
     "execution_count": 46,
     "metadata": {},
     "output_type": "execute_result"
    }
   ],
   "source": [
    "#Q5\n",
    "z = np.arange(10, 51)\n",
    "zReverse = np.flipud(z)\n",
    "zReverse"
   ]
  },
  {
   "cell_type": "code",
   "execution_count": 47,
   "id": "8594b329",
   "metadata": {},
   "outputs": [
    {
     "data": {
      "text/plain": [
       "array([[1., 0., 0.],\n",
       "       [0., 1., 0.],\n",
       "       [0., 0., 1.]])"
      ]
     },
     "execution_count": 47,
     "metadata": {},
     "output_type": "execute_result"
    }
   ],
   "source": [
    "#Q7\n",
    "np.eye(3)"
   ]
  },
  {
   "cell_type": "code",
   "execution_count": 135,
   "id": "4dc41768",
   "metadata": {},
   "outputs": [
    {
     "name": "stdout",
     "output_type": "stream",
     "text": [
      "[[1. 0. 0.]\n",
      " [0. 1. 0.]\n",
      " [0. 0. 1.]]\n"
     ]
    }
   ],
   "source": [
    "#Q8\n",
    "matrix =  np.identity(3)\n",
    "print(matrix)"
   ]
  },
  {
   "cell_type": "code",
   "execution_count": 49,
   "id": "8f62cb18",
   "metadata": {},
   "outputs": [
    {
     "data": {
      "text/plain": [
       "array([[[0.17978957, 0.92586004, 0.88704745],\n",
       "        [0.35277788, 0.38667952, 0.64246678],\n",
       "        [0.11150304, 0.26378273, 0.36128199]],\n",
       "\n",
       "       [[0.76686801, 0.89001455, 0.78539155],\n",
       "        [0.52764004, 0.11527537, 0.51164342],\n",
       "        [0.25866183, 0.23902961, 0.925887  ]],\n",
       "\n",
       "       [[0.94317767, 0.62951914, 0.06808526],\n",
       "        [0.20281375, 0.13692126, 0.50074137],\n",
       "        [0.10242326, 0.90564353, 0.93896983]]])"
      ]
     },
     "execution_count": 49,
     "metadata": {},
     "output_type": "execute_result"
    }
   ],
   "source": [
    "#Q9\n",
    "np.random.random(size=(3, 3, 3))"
   ]
  },
  {
   "cell_type": "code",
   "execution_count": 64,
   "id": "ecca5a96",
   "metadata": {
    "scrolled": true
   },
   "outputs": [
    {
     "name": "stdout",
     "output_type": "stream",
     "text": [
      "0.022523821479860984\n",
      "0.9987742422280108\n"
     ]
    }
   ],
   "source": [
    "#Q10\n",
    "matrice = np.random.random(size=(10, 10))\n",
    "print(matrice.min())\n",
    "print(matrice.max())"
   ]
  },
  {
   "cell_type": "code",
   "execution_count": 87,
   "id": "d80bfcc9",
   "metadata": {},
   "outputs": [
    {
     "data": {
      "text/plain": [
       "array([[0, 0, 0, 0, 0],\n",
       "       [1, 0, 0, 0, 0],\n",
       "       [0, 2, 0, 0, 0],\n",
       "       [0, 0, 3, 0, 0],\n",
       "       [0, 0, 0, 4, 0]])"
      ]
     },
     "execution_count": 87,
     "metadata": {},
     "output_type": "execute_result"
    }
   ],
   "source": [
    "#Q11\n",
    "np.diag([1,2,3,4], -1)"
   ]
  },
  {
   "cell_type": "code",
   "execution_count": 61,
   "id": "3c470e96",
   "metadata": {},
   "outputs": [
    {
     "data": {
      "text/plain": [
       "3.3492334227682043"
      ]
     },
     "execution_count": 61,
     "metadata": {},
     "output_type": "execute_result"
    }
   ],
   "source": [
    "#Q12 \n",
    "liste = np.random.random(5)\n",
    "liste.sum()"
   ]
  },
  {
   "cell_type": "code",
   "execution_count": 72,
   "id": "e6b95c10",
   "metadata": {},
   "outputs": [
    {
     "data": {
      "text/plain": [
       "3.0"
      ]
     },
     "execution_count": 72,
     "metadata": {},
     "output_type": "execute_result"
    }
   ],
   "source": [
    "#Q13\n",
    "list = np.arange(1,6)\n",
    "np.average(list)\n"
   ]
  },
  {
   "cell_type": "code",
   "execution_count": 76,
   "id": "430e76e0",
   "metadata": {},
   "outputs": [
    {
     "name": "stdout",
     "output_type": "stream",
     "text": [
      "11\n"
     ]
    }
   ],
   "source": [
    "#Q14\n",
    "l = [x for x in np.arange(11)]\n",
    "print(len(l))"
   ]
  },
  {
   "cell_type": "code",
   "execution_count": 143,
   "id": "e485b7c5",
   "metadata": {},
   "outputs": [
    {
     "name": "stdout",
     "output_type": "stream",
     "text": [
      "[0.1 0.2 0.3 0.4 0.5 0.6 0.7 0.8 0.9]\n"
     ]
    }
   ],
   "source": [
    "#Q15\n",
    "#print([x for x in np.random.random(10) if x not in [0, 1]])\n",
    "# random = np.random.rand(10)\n",
    "random = np.linspace(0,1,10, endpoint=False)[1:]\n",
    "print(random)"
   ]
  },
  {
   "cell_type": "code",
   "execution_count": 144,
   "id": "e53e97c0",
   "metadata": {},
   "outputs": [
    {
     "name": "stdout",
     "output_type": "stream",
     "text": [
      "False\n"
     ]
    }
   ],
   "source": [
    "#Q16\n",
    "arrA = np.random.random(5)\n",
    "arrB = np.random.random(5)\n",
    "comparison = arrA == arrB\n",
    "equal_arrays = comparison.all()\n",
    "print(equal_arrays)"
   ]
  },
  {
   "cell_type": "code",
   "execution_count": 145,
   "id": "ec7be791",
   "metadata": {},
   "outputs": [
    {
     "name": "stdout",
     "output_type": "stream",
     "text": [
      "[0.14494014 0.03391254 0.13115665 0.67563885 0.8182863  0.22059491\n",
      " 0.31921104 0.6617515  0.1221448  0.67887115]\n",
      "[0 0 0 0 0 0 0 0 0 0]\n"
     ]
    }
   ],
   "source": [
    "#Q17\n",
    "random = np.random.random(10).astype(np.float32)\n",
    "print(random)\n",
    "random = random.astype(np.int32)\n",
    "print(random)"
   ]
  },
  {
   "cell_type": "code",
   "execution_count": 154,
   "id": "b93d7479",
   "metadata": {},
   "outputs": [
    {
     "data": {
      "text/plain": [
       "[0, 1, 2, 3, 4, 5, 6, 7, 8, 9]"
      ]
     },
     "execution_count": 154,
     "metadata": {},
     "output_type": "execute_result"
    }
   ],
   "source": [
    "#Q18\n",
    "tab = [x for x in range(10)];tab"
   ]
  },
  {
   "cell_type": "code",
   "execution_count": 165,
   "id": "e1218a6d",
   "metadata": {},
   "outputs": [],
   "source": [
    "def moy(arr: list) -> float :\n",
    "    \"\"\"fonction renvoyant la moyenne\"\"\"\n",
    "    result = 0\n",
    "    for e in arr:\n",
    "        result += e\n",
    "    result = result/ len(arr)\n",
    "    return result"
   ]
  },
  {
   "cell_type": "code",
   "execution_count": 167,
   "id": "69a516c1",
   "metadata": {},
   "outputs": [
    {
     "data": {
      "text/plain": [
       "True"
      ]
     },
     "execution_count": 167,
     "metadata": {},
     "output_type": "execute_result"
    }
   ],
   "source": [
    "moy(tab) == np.mean(tab)"
   ]
  },
  {
   "cell_type": "code",
   "execution_count": 162,
   "id": "8ffe716b",
   "metadata": {},
   "outputs": [
    {
     "name": "stdout",
     "output_type": "stream",
     "text": [
      "[[0 1 2]\n",
      " [3 4 5]\n",
      " [6 7 8]]\n",
      "[[0 3 6]\n",
      " [1 4 7]\n",
      " [2 5 8]]\n"
     ]
    }
   ],
   "source": [
    "#Q19\n",
    "matrice = np.arange(0, 9).reshape((3, 3))\n",
    "print(matrice)\n",
    "mart2 = np.transpose(matrice)\n",
    "print(mart2)"
   ]
  },
  {
   "cell_type": "code",
   "execution_count": null,
   "id": "7ba2a26e",
   "metadata": {},
   "outputs": [],
   "source": []
  },
  {
   "cell_type": "code",
   "execution_count": null,
   "id": "687f6a46",
   "metadata": {},
   "outputs": [],
   "source": []
  }
 ],
 "metadata": {
  "kernelspec": {
   "display_name": "Python 3",
   "language": "python",
   "name": "python3"
  },
  "language_info": {
   "codemirror_mode": {
    "name": "ipython",
    "version": 3
   },
   "file_extension": ".py",
   "mimetype": "text/x-python",
   "name": "python",
   "nbconvert_exporter": "python",
   "pygments_lexer": "ipython3",
   "version": "3.8.5"
  }
 },
 "nbformat": 4,
 "nbformat_minor": 5
}
