{
 "cells": [
  {
   "cell_type": "code",
   "execution_count": 4,
   "id": "7e26030a",
   "metadata": {},
   "outputs": [
    {
     "name": "stdout",
     "output_type": "stream",
     "text": [
      "Collecting numpy\n",
      "  Downloading numpy-1.20.3-cp38-cp38-manylinux_2_12_x86_64.manylinux2010_x86_64.whl (15.4 MB)\n",
      "\u001b[K     |████████████████████████████████| 15.4 MB 2.1 MB/s eta 0:00:01\n",
      "\u001b[?25hInstalling collected packages: numpy\n",
      "Successfully installed numpy-1.20.3\n",
      "Note: you may need to restart the kernel to use updated packages.\n"
     ]
    }
   ],
   "source": [
    "#Q1\n",
    "pip install numpy"
   ]
  },
  {
   "cell_type": "code",
   "execution_count": 4,
   "id": "e00e8817",
   "metadata": {},
   "outputs": [],
   "source": [
    "import numpy as np"
   ]
  },
  {
   "cell_type": "code",
   "execution_count": 39,
   "id": "ca2beb49",
   "metadata": {},
   "outputs": [
    {
     "data": {
      "text/plain": [
       "'1.20.3'"
      ]
     },
     "execution_count": 39,
     "metadata": {},
     "output_type": "execute_result"
    }
   ],
   "source": [
    "#Q2\n",
    "np.version.version"
   ]
  },
  {
   "cell_type": "code",
   "execution_count": 33,
   "id": "e7857a8e",
   "metadata": {},
   "outputs": [
    {
     "data": {
      "text/plain": [
       "array([0., 0., 0., 0., 0., 0., 0., 0., 0., 0.])"
      ]
     },
     "execution_count": 33,
     "metadata": {},
     "output_type": "execute_result"
    }
   ],
   "source": [
    "#Q3 \n",
    "np.zeros(10)"
   ]
  },
  {
   "cell_type": "code",
   "execution_count": 35,
   "id": "7bfabd59",
   "metadata": {},
   "outputs": [
    {
     "data": {
      "text/plain": [
       "array([0., 0., 0., 0., 1., 0., 0., 0., 0., 0.])"
      ]
     },
     "execution_count": 35,
     "metadata": {},
     "output_type": "execute_result"
    }
   ],
   "source": [
    "#Q4 \n",
    "vecNull = np.zeros(10)\n",
    "vecNull[4] = 1\n",
    "vecNull"
   ]
  },
  {
   "cell_type": "code",
   "execution_count": 46,
   "id": "4b0a0482",
   "metadata": {},
   "outputs": [
    {
     "data": {
      "text/plain": [
       "array([50, 49, 48, 47, 46, 45, 44, 43, 42, 41, 40, 39, 38, 37, 36, 35, 34,\n",
       "       33, 32, 31, 30, 29, 28, 27, 26, 25, 24, 23, 22, 21, 20, 19, 18, 17,\n",
       "       16, 15, 14, 13, 12, 11, 10])"
      ]
     },
     "execution_count": 46,
     "metadata": {},
     "output_type": "execute_result"
    }
   ],
   "source": [
    "#Q5\n",
    "z = np.arange(10, 51)\n",
    "zReverse = np.flipud(z)\n",
    "zReverse"
   ]
  },
  {
   "cell_type": "code",
   "execution_count": 47,
   "id": "8594b329",
   "metadata": {},
   "outputs": [
    {
     "data": {
      "text/plain": [
       "array([[1., 0., 0.],\n",
       "       [0., 1., 0.],\n",
       "       [0., 0., 1.]])"
      ]
     },
     "execution_count": 47,
     "metadata": {},
     "output_type": "execute_result"
    }
   ],
   "source": [
    "#Q7\n",
    "np.eye(3)"
   ]
  },
  {
   "cell_type": "code",
   "execution_count": 63,
   "id": "3ea9dd6e",
   "metadata": {},
   "outputs": [
    {
     "name": "stdout",
     "output_type": "stream",
     "text": [
      "[[0 1 2]\n",
      " [3 4 5]\n",
      " [6 7 8]]\n"
     ]
    }
   ],
   "source": [
    "#Q8\n",
    "matrix = np.arange(0, 9).reshape((3, 3))\n",
    "print(matrix)"
   ]
  },
  {
   "cell_type": "code",
   "execution_count": 49,
   "id": "faf7a380",
   "metadata": {},
   "outputs": [
    {
     "data": {
      "text/plain": [
       "array([[[0.17978957, 0.92586004, 0.88704745],\n",
       "        [0.35277788, 0.38667952, 0.64246678],\n",
       "        [0.11150304, 0.26378273, 0.36128199]],\n",
       "\n",
       "       [[0.76686801, 0.89001455, 0.78539155],\n",
       "        [0.52764004, 0.11527537, 0.51164342],\n",
       "        [0.25866183, 0.23902961, 0.925887  ]],\n",
       "\n",
       "       [[0.94317767, 0.62951914, 0.06808526],\n",
       "        [0.20281375, 0.13692126, 0.50074137],\n",
       "        [0.10242326, 0.90564353, 0.93896983]]])"
      ]
     },
     "execution_count": 49,
     "metadata": {},
     "output_type": "execute_result"
    }
   ],
   "source": [
    "#Q9\n",
    "np.random.random(size=(3, 3, 3))"
   ]
  },
  {
   "cell_type": "code",
   "execution_count": 64,
   "id": "22764cd2",
   "metadata": {
    "scrolled": true
   },
   "outputs": [
    {
     "name": "stdout",
     "output_type": "stream",
     "text": [
      "0.022523821479860984\n",
      "0.9987742422280108\n"
     ]
    }
   ],
   "source": [
    "#Q10\n",
    "matrice = np.random.random(size=(10, 10))\n",
    "print(matrice.min())\n",
    "print(matrice.max())"
   ]
  },
  {
   "cell_type": "code",
   "execution_count": 87,
   "id": "17538d3e",
   "metadata": {},
   "outputs": [
    {
     "data": {
      "text/plain": [
       "array([[0, 0, 0, 0, 0],\n",
       "       [1, 0, 0, 0, 0],\n",
       "       [0, 2, 0, 0, 0],\n",
       "       [0, 0, 3, 0, 0],\n",
       "       [0, 0, 0, 4, 0]])"
      ]
     },
     "execution_count": 87,
     "metadata": {},
     "output_type": "execute_result"
    }
   ],
   "source": [
    "#Q11\n",
    "np.diag([1,2,3,4], -1)"
   ]
  },
  {
   "cell_type": "code",
   "execution_count": 61,
   "id": "29119ed6",
   "metadata": {},
   "outputs": [
    {
     "data": {
      "text/plain": [
       "3.3492334227682043"
      ]
     },
     "execution_count": 61,
     "metadata": {},
     "output_type": "execute_result"
    }
   ],
   "source": [
    "#Q12 \n",
    "liste = np.random.random(5)\n",
    "liste.sum()"
   ]
  },
  {
   "cell_type": "code",
   "execution_count": 72,
   "id": "5829f020",
   "metadata": {},
   "outputs": [
    {
     "data": {
      "text/plain": [
       "3.0"
      ]
     },
     "execution_count": 72,
     "metadata": {},
     "output_type": "execute_result"
    }
   ],
   "source": [
    "#Q13\n",
    "list = np.arange(1,6)\n",
    "np.average(list)\n"
   ]
  },
  {
   "cell_type": "code",
   "execution_count": 76,
   "id": "d5af6664",
   "metadata": {},
   "outputs": [
    {
     "name": "stdout",
     "output_type": "stream",
     "text": [
      "11\n"
     ]
    }
   ],
   "source": [
    "#Q14\n",
    "l = [x for x in np.arange(11)]\n",
    "print(len(l))"
   ]
  },
  {
   "cell_type": "code",
   "execution_count": 82,
   "id": "aa1644a8",
   "metadata": {},
   "outputs": [
    {
     "name": "stdout",
     "output_type": "stream",
     "text": [
      "[0.53052105 0.5177672  0.80792599 0.49401448 0.61418549 0.86559269\n",
      " 0.13682852 0.52533959 0.05061811 0.50553326]\n"
     ]
    }
   ],
   "source": [
    "#Q15\n",
    "#print([x for x in np.random.random(10) if x not in [0, 1]])\n",
    "random = np.random.rand(10)\n",
    "print(random)"
   ]
  },
  {
   "cell_type": "code",
   "execution_count": 97,
   "id": "be5514b0",
   "metadata": {},
   "outputs": [
    {
     "name": "stdout",
     "output_type": "stream",
     "text": [
      "False\n"
     ]
    }
   ],
   "source": [
    "#Q16\n",
    "arrA = np.random.random(5)\n",
    "arrB = np.random.random(5)\n",
    "comparison = arrA == arrB\n",
    "equal_arrays = comparison.all()\n",
    "print(equal_arrays)"
   ]
  },
  {
   "cell_type": "code",
   "execution_count": 101,
   "id": "547dc66e",
   "metadata": {},
   "outputs": [
    {
     "name": "stdout",
     "output_type": "stream",
     "text": [
      "[0.24087876 0.8201283  0.64588076 0.25119844 0.14148054 0.23237039\n",
      " 0.6894854  0.34574345 0.31377256 0.01018419]\n",
      "[0 0 0 0 0 0 0 0 0 0]\n"
     ]
    }
   ],
   "source": [
    "#Q17\n",
    "random = np.random.random(10).astype(np.float32)\n",
    "print(random)\n",
    "random = random.astype(np.int32)\n",
    "print(random)"
   ]
  },
  {
   "cell_type": "raw",
   "id": "b7f9748e",
   "metadata": {},
   "source": []
  },
  {
   "cell_type": "code",
   "execution_count": null,
   "id": "199ee352",
   "metadata": {},
   "outputs": [],
   "source": []
  }
 ],
 "metadata": {
  "kernelspec": {
   "display_name": "Python 3",
   "language": "python",
   "name": "python3"
  },
  "language_info": {
   "codemirror_mode": {
    "name": "ipython",
    "version": 3
   },
   "file_extension": ".py",
   "mimetype": "text/x-python",
   "name": "python",
   "nbconvert_exporter": "python",
   "pygments_lexer": "ipython3",
   "version": "3.8.5"
  }
 },
 "nbformat": 4,
 "nbformat_minor": 5
}
